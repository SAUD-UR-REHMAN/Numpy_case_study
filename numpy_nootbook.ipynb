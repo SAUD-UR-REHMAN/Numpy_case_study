{
 "cells": [
  {
   "cell_type": "markdown",
   "id": "784a027e",
   "metadata": {},
   "source": [
    "# Library numpy and different functions of it"
   ]
  },
  {
   "cell_type": "markdown",
   "id": "6a198814",
   "metadata": {},
   "source": [
    "### Install numpy in vs code \n",
    "open your terminal and write the comand \" pip install numpy \" and press enter"
   ]
  },
  {
   "cell_type": "markdown",
   "id": "6c6e0395",
   "metadata": {},
   "source": [
    "### Import numpy in jupter nootbook"
   ]
  },
  {
   "cell_type": "code",
   "execution_count": 1,
   "id": "e6761277",
   "metadata": {},
   "outputs": [],
   "source": [
    "### importing libarary\n",
    "import numpy as np"
   ]
  },
  {
   "cell_type": "markdown",
   "id": "4f35c069",
   "metadata": {},
   "source": [
    "## Array"
   ]
  },
  {
   "cell_type": "markdown",
   "id": "8aa3a1aa",
   "metadata": {},
   "source": [
    "### 1-D Array"
   ]
  },
  {
   "cell_type": "code",
   "execution_count": 2,
   "id": "295866a7",
   "metadata": {},
   "outputs": [
    {
     "data": {
      "text/plain": [
       "array([1, 2, 3, 4, 5, 6, 7, 8, 9])"
      ]
     },
     "execution_count": 2,
     "metadata": {},
     "output_type": "execute_result"
    }
   ],
   "source": [
    "arr = np.array([1,2,3,4,5,6,7,8,9])\n",
    "arr"
   ]
  },
  {
   "cell_type": "markdown",
   "id": "1667aeae",
   "metadata": {},
   "source": [
    "### 2-D Array"
   ]
  },
  {
   "cell_type": "code",
   "execution_count": 3,
   "id": "13a04496",
   "metadata": {},
   "outputs": [
    {
     "data": {
      "text/plain": [
       "array([[1, 2, 3, 4, 5],\n",
       "       [5, 4, 3, 2, 1]])"
      ]
     },
     "execution_count": 3,
     "metadata": {},
     "output_type": "execute_result"
    }
   ],
   "source": [
    "arr = np.array([[1,2,3,4,5],\n",
    "              [5,4,3,2,1]])\n",
    "arr"
   ]
  },
  {
   "cell_type": "markdown",
   "id": "c2e30cb9",
   "metadata": {},
   "source": [
    "### 3-D Array"
   ]
  },
  {
   "cell_type": "code",
   "execution_count": 4,
   "id": "82f14d75",
   "metadata": {},
   "outputs": [
    {
     "data": {
      "text/plain": [
       "array([[ 1,  2,  3,  4,  5],\n",
       "       [ 5,  4,  3,  2,  1],\n",
       "       [ 6,  7,  8,  9, 10]])"
      ]
     },
     "execution_count": 4,
     "metadata": {},
     "output_type": "execute_result"
    }
   ],
   "source": [
    "arr = np.array([[1,2,3,4,5],\n",
    "              [5,4,3,2,1],\n",
    "               [6,7,8,9,10]])\n",
    "arr"
   ]
  },
  {
   "cell_type": "markdown",
   "id": "86388eb8",
   "metadata": {},
   "source": [
    "### Array filled with zeros "
   ]
  },
  {
   "cell_type": "code",
   "execution_count": 5,
   "id": "403abe4f",
   "metadata": {},
   "outputs": [
    {
     "data": {
      "text/plain": [
       "array([0., 0., 0., 0., 0., 0.])"
      ]
     },
     "execution_count": 5,
     "metadata": {},
     "output_type": "execute_result"
    }
   ],
   "source": [
    "arr = np.zeros(6)\n",
    "arr"
   ]
  },
  {
   "cell_type": "markdown",
   "id": "e9d9bab9",
   "metadata": {},
   "source": [
    "### Array filled with 1's"
   ]
  },
  {
   "cell_type": "code",
   "execution_count": 6,
   "id": "14f787f0",
   "metadata": {},
   "outputs": [
    {
     "data": {
      "text/plain": [
       "array([1., 1., 1., 1., 1., 1.])"
      ]
     },
     "execution_count": 6,
     "metadata": {},
     "output_type": "execute_result"
    }
   ],
   "source": [
    "arr = np.ones(6)\n",
    "arr"
   ]
  },
  {
   "cell_type": "markdown",
   "id": "14273dbd",
   "metadata": {},
   "source": [
    "### Defining data type"
   ]
  },
  {
   "cell_type": "code",
   "execution_count": 7,
   "id": "8897c2fc",
   "metadata": {},
   "outputs": [
    {
     "data": {
      "text/plain": [
       "array([1, 1, 1, 1, 1, 1], dtype=int64)"
      ]
     },
     "execution_count": 7,
     "metadata": {},
     "output_type": "execute_result"
    }
   ],
   "source": [
    "# integer data type\n",
    "arr = np.ones(6, dtype=np.int64)\n",
    "arr"
   ]
  },
  {
   "cell_type": "code",
   "execution_count": 8,
   "id": "3b9f3597",
   "metadata": {},
   "outputs": [
    {
     "data": {
      "text/plain": [
       "array([1., 1., 1., 1., 1., 1.])"
      ]
     },
     "execution_count": 8,
     "metadata": {},
     "output_type": "execute_result"
    }
   ],
   "source": [
    "# float data type\n",
    "arr = np.ones(6, dtype=np.float64)\n",
    "arr"
   ]
  },
  {
   "cell_type": "markdown",
   "id": "e892b036",
   "metadata": {},
   "source": [
    "### Empty array with spacific number of elements"
   ]
  },
  {
   "cell_type": "markdown",
   "id": "cb372a92",
   "metadata": {},
   "source": [
    "- It will use an random order depending upon the state of memory"
   ]
  },
  {
   "cell_type": "code",
   "execution_count": 9,
   "id": "662106c3",
   "metadata": {},
   "outputs": [
    {
     "data": {
      "text/plain": [
       "array([1.21438024e+070, 1.06616701e+245])"
      ]
     },
     "execution_count": 9,
     "metadata": {},
     "output_type": "execute_result"
    }
   ],
   "source": [
    "arr = np.empty(2)\n",
    "arr"
   ]
  },
  {
   "cell_type": "markdown",
   "id": "c7723941",
   "metadata": {},
   "source": [
    "### Creating array by giving spacific length of array"
   ]
  },
  {
   "cell_type": "markdown",
   "id": "631b4b9e",
   "metadata": {},
   "source": [
    "- Giving length"
   ]
  },
  {
   "cell_type": "code",
   "execution_count": 10,
   "id": "95b06cf3",
   "metadata": {},
   "outputs": [
    {
     "data": {
      "text/plain": [
       "array([0, 1, 2, 3, 4, 5])"
      ]
     },
     "execution_count": 10,
     "metadata": {},
     "output_type": "execute_result"
    }
   ],
   "source": [
    "arr = np.arange(6)\n",
    "arr"
   ]
  },
  {
   "cell_type": "markdown",
   "id": "e90aa3ae",
   "metadata": {},
   "source": [
    "- Giving starting and ending range"
   ]
  },
  {
   "cell_type": "code",
   "execution_count": 11,
   "id": "21965fac",
   "metadata": {},
   "outputs": [
    {
     "data": {
      "text/plain": [
       "array([2, 3, 4, 5, 6, 7])"
      ]
     },
     "execution_count": 11,
     "metadata": {},
     "output_type": "execute_result"
    }
   ],
   "source": [
    "arr = np.arange(2,8)\n",
    "arr"
   ]
  },
  {
   "cell_type": "markdown",
   "id": "916e1f62",
   "metadata": {},
   "source": [
    "#### i- step size of intervel betwwen next number\n",
    "-arr = np.arange(starting , ending , step_size)"
   ]
  },
  {
   "cell_type": "code",
   "execution_count": 12,
   "id": "a27e5e8a",
   "metadata": {},
   "outputs": [
    {
     "data": {
      "text/plain": [
       "array([2, 4, 6, 8])"
      ]
     },
     "execution_count": 12,
     "metadata": {},
     "output_type": "execute_result"
    }
   ],
   "source": [
    "arr = np.arange(2,10,2)\n",
    "arr"
   ]
  },
  {
   "cell_type": "markdown",
   "id": "41268393",
   "metadata": {},
   "source": [
    "- giving a spacific space between given two numbers"
   ]
  },
  {
   "cell_type": "code",
   "execution_count": 13,
   "id": "59188424",
   "metadata": {},
   "outputs": [
    {
     "data": {
      "text/plain": [
       "array([ 0. ,  2.5,  5. ,  7.5, 10. ])"
      ]
     },
     "execution_count": 13,
     "metadata": {},
     "output_type": "execute_result"
    }
   ],
   "source": [
    "arr = np.linspace(0, 10, num=5)\n",
    "arr"
   ]
  },
  {
   "cell_type": "markdown",
   "id": "0f46f960",
   "metadata": {},
   "source": [
    "## Different array operations"
   ]
  },
  {
   "cell_type": "markdown",
   "id": "da2fda3f",
   "metadata": {},
   "source": [
    "### Array Sorting"
   ]
  },
  {
   "cell_type": "code",
   "execution_count": 14,
   "id": "da5e7518",
   "metadata": {},
   "outputs": [
    {
     "data": {
      "text/plain": [
       "array([1, 2, 3, 4, 5, 6, 7, 8])"
      ]
     },
     "execution_count": 14,
     "metadata": {},
     "output_type": "execute_result"
    }
   ],
   "source": [
    "arr = np.array([2, 1, 5, 3, 7, 4, 6, 8])\n",
    "np.sort(arr)"
   ]
  },
  {
   "cell_type": "markdown",
   "id": "03fe855d",
   "metadata": {},
   "source": [
    "### Concatination"
   ]
  },
  {
   "cell_type": "markdown",
   "id": "618ab978",
   "metadata": {},
   "source": [
    "- Array's of same dimention"
   ]
  },
  {
   "cell_type": "code",
   "execution_count": 15,
   "id": "cebc82cf",
   "metadata": {},
   "outputs": [
    {
     "data": {
      "text/plain": [
       "array([1, 2, 3, 4, 5, 6, 7, 8])"
      ]
     },
     "execution_count": 15,
     "metadata": {},
     "output_type": "execute_result"
    }
   ],
   "source": [
    "a = np.array([1, 2, 3, 4])\n",
    "b = np.array([5, 6, 7, 8])\n",
    "c = np.concatenate((a,b))\n",
    "c"
   ]
  },
  {
   "cell_type": "markdown",
   "id": "5474b523",
   "metadata": {},
   "source": [
    "- Array's of different dimentions"
   ]
  },
  {
   "cell_type": "code",
   "execution_count": 16,
   "id": "20478e3f",
   "metadata": {},
   "outputs": [
    {
     "data": {
      "text/plain": [
       "array([[1, 2],\n",
       "       [3, 4],\n",
       "       [5, 6]])"
      ]
     },
     "execution_count": 16,
     "metadata": {},
     "output_type": "execute_result"
    }
   ],
   "source": [
    "x = np.array([[1, 2], [3, 4]])\n",
    "y = np.array([[5, 6]])\n",
    "z = np.concatenate((x,y),axis=0)\n",
    "z"
   ]
  },
  {
   "cell_type": "markdown",
   "id": "4463d466",
   "metadata": {},
   "source": [
    "## Shape and size of an array"
   ]
  },
  {
   "cell_type": "code",
   "execution_count": 17,
   "id": "0eb9bee7",
   "metadata": {},
   "outputs": [
    {
     "data": {
      "text/plain": [
       "array([[[0, 1, 2, 3],\n",
       "        [4, 5, 6, 7]],\n",
       "\n",
       "       [[0, 1, 2, 3],\n",
       "        [4, 5, 6, 7]],\n",
       "\n",
       "       [[0, 1, 2, 3],\n",
       "        [4, 5, 6, 7]]])"
      ]
     },
     "execution_count": 17,
     "metadata": {},
     "output_type": "execute_result"
    }
   ],
   "source": [
    "arr = np.array([[[0, 1, 2, 3],\n",
    "                 [4, 5, 6, 7]],\n",
    "\n",
    "                [[0, 1, 2, 3],\n",
    "                 [4, 5, 6, 7]],\n",
    "\n",
    "                [[0 ,1 ,2, 3],\n",
    "                 [4, 5, 6, 7]]])\n",
    "arr"
   ]
  },
  {
   "cell_type": "markdown",
   "id": "594e6141",
   "metadata": {},
   "source": [
    "- To find the number of dimensions of the array ( number of axes, or dimensions, of the array )"
   ]
  },
  {
   "cell_type": "code",
   "execution_count": 18,
   "id": "a3f4eb4c",
   "metadata": {},
   "outputs": [
    {
     "data": {
      "text/plain": [
       "3"
      ]
     },
     "execution_count": 18,
     "metadata": {},
     "output_type": "execute_result"
    }
   ],
   "source": [
    "arr.ndim"
   ]
  },
  {
   "cell_type": "markdown",
   "id": "4ee008a9",
   "metadata": {},
   "source": [
    "- To find the total number of elements in the array ( number elements in the main array )"
   ]
  },
  {
   "cell_type": "code",
   "execution_count": 19,
   "id": "d1496584",
   "metadata": {},
   "outputs": [
    {
     "data": {
      "text/plain": [
       "24"
      ]
     },
     "execution_count": 19,
     "metadata": {},
     "output_type": "execute_result"
    }
   ],
   "source": [
    "arr.size"
   ]
  },
  {
   "cell_type": "markdown",
   "id": "3e22616d",
   "metadata": {},
   "source": [
    "- To find the shape of your array ( it will returns the dimention and the order of matrix)"
   ]
  },
  {
   "cell_type": "code",
   "execution_count": 20,
   "id": "5dd4c884",
   "metadata": {},
   "outputs": [
    {
     "data": {
      "text/plain": [
       "(3, 2, 4)"
      ]
     },
     "execution_count": 20,
     "metadata": {},
     "output_type": "execute_result"
    }
   ],
   "source": [
    "arr.shape"
   ]
  },
  {
   "cell_type": "markdown",
   "id": "aa8aa1a4",
   "metadata": {},
   "source": [
    "## Reshaping an array"
   ]
  },
  {
   "cell_type": "markdown",
   "id": "75bc828f",
   "metadata": {},
   "source": [
    "### 1-D reshape"
   ]
  },
  {
   "cell_type": "code",
   "execution_count": 21,
   "id": "ffe822bf",
   "metadata": {},
   "outputs": [
    {
     "data": {
      "text/plain": [
       "array([ 1,  2,  3,  4,  5,  6,  7,  8,  9, 10, 11, 12, 13, 14, 15, 16, 17,\n",
       "       18, 19, 20, 21, 22, 23, 24])"
      ]
     },
     "execution_count": 21,
     "metadata": {},
     "output_type": "execute_result"
    }
   ],
   "source": [
    "# creating an array\n",
    "arr = np.arange(1,25)\n",
    "arr"
   ]
  },
  {
   "cell_type": "markdown",
   "id": "b65539c6",
   "metadata": {},
   "source": [
    "- Reshape ( give the order here like: 6-by-4 for array given above )"
   ]
  },
  {
   "cell_type": "code",
   "execution_count": 22,
   "id": "fdf529b7",
   "metadata": {},
   "outputs": [
    {
     "data": {
      "text/plain": [
       "array([[ 1,  2,  3,  4],\n",
       "       [ 5,  6,  7,  8],\n",
       "       [ 9, 10, 11, 12],\n",
       "       [13, 14, 15, 16],\n",
       "       [17, 18, 19, 20],\n",
       "       [21, 22, 23, 24]])"
      ]
     },
     "execution_count": 22,
     "metadata": {},
     "output_type": "execute_result"
    }
   ],
   "source": [
    "arr.reshape(6,4)"
   ]
  },
  {
   "cell_type": "markdown",
   "id": "4bd5022a",
   "metadata": {},
   "source": [
    "### 2-D reshape"
   ]
  },
  {
   "cell_type": "markdown",
   "id": "6c57b752",
   "metadata": {},
   "source": [
    "- Reshape ( give the dimention here like: 3 of 6-by-4 for array given above )"
   ]
  },
  {
   "cell_type": "code",
   "execution_count": 23,
   "id": "92c0b548",
   "metadata": {},
   "outputs": [
    {
     "data": {
      "text/plain": [
       "array([[[ 1,  2,  3,  4],\n",
       "        [ 5,  6,  7,  8],\n",
       "        [ 9, 10, 11, 12]],\n",
       "\n",
       "       [[13, 14, 15, 16],\n",
       "        [17, 18, 19, 20],\n",
       "        [21, 22, 23, 24]]])"
      ]
     },
     "execution_count": 23,
     "metadata": {},
     "output_type": "execute_result"
    }
   ],
   "source": [
    "arr.reshape(2,3,4)"
   ]
  },
  {
   "cell_type": "markdown",
   "id": "b8578c1a",
   "metadata": {},
   "source": [
    "### 3-D reshape"
   ]
  },
  {
   "cell_type": "code",
   "execution_count": 24,
   "id": "5e7efe48",
   "metadata": {},
   "outputs": [
    {
     "data": {
      "text/plain": [
       "array([[[ 1,  2],\n",
       "        [ 3,  4],\n",
       "        [ 5,  6],\n",
       "        [ 7,  8]],\n",
       "\n",
       "       [[ 9, 10],\n",
       "        [11, 12],\n",
       "        [13, 14],\n",
       "        [15, 16]],\n",
       "\n",
       "       [[17, 18],\n",
       "        [19, 20],\n",
       "        [21, 22],\n",
       "        [23, 24]]])"
      ]
     },
     "execution_count": 24,
     "metadata": {},
     "output_type": "execute_result"
    }
   ],
   "source": [
    "arr.reshape(3,4,2)"
   ]
  },
  {
   "cell_type": "markdown",
   "id": "e3ab0539",
   "metadata": {},
   "source": [
    "## Convert a 1D array into a 2D array (Add a new axis to an array)"
   ]
  },
  {
   "cell_type": "markdown",
   "id": "e729e5a0",
   "metadata": {},
   "source": [
    "### Column vactor"
   ]
  },
  {
   "cell_type": "code",
   "execution_count": 25,
   "id": "92f4ef5a",
   "metadata": {},
   "outputs": [
    {
     "data": {
      "text/plain": [
       "array([[ 1],\n",
       "       [ 2],\n",
       "       [ 3],\n",
       "       [ 4],\n",
       "       [ 5],\n",
       "       [ 6],\n",
       "       [ 7],\n",
       "       [ 8],\n",
       "       [ 9],\n",
       "       [10],\n",
       "       [11],\n",
       "       [12],\n",
       "       [13],\n",
       "       [14],\n",
       "       [15],\n",
       "       [16],\n",
       "       [17],\n",
       "       [18],\n",
       "       [19],\n",
       "       [20],\n",
       "       [21],\n",
       "       [22],\n",
       "       [23],\n",
       "       [24]])"
      ]
     },
     "execution_count": 25,
     "metadata": {},
     "output_type": "execute_result"
    }
   ],
   "source": [
    "# change line after every element\n",
    "new_arr = arr[:, np.newaxis]\n",
    "new_arr"
   ]
  },
  {
   "cell_type": "markdown",
   "id": "8183a44c",
   "metadata": {},
   "source": [
    "### Row Vactor"
   ]
  },
  {
   "cell_type": "code",
   "execution_count": 26,
   "id": "a2abad54",
   "metadata": {},
   "outputs": [
    {
     "data": {
      "text/plain": [
       "array([[ 1,  2,  3,  4,  5,  6,  7,  8,  9, 10, 11, 12, 13, 14, 15, 16,\n",
       "        17, 18, 19, 20, 21, 22, 23, 24]])"
      ]
     },
     "execution_count": 26,
     "metadata": {},
     "output_type": "execute_result"
    }
   ],
   "source": [
    "# change 1-D array to a line vactor\n",
    "new_arr = arr[np.newaxis, :]\n",
    "new_arr"
   ]
  },
  {
   "cell_type": "markdown",
   "id": "f2fda236",
   "metadata": {},
   "source": [
    "## Indexing and slicing"
   ]
  },
  {
   "cell_type": "markdown",
   "id": "1515b86f",
   "metadata": {},
   "source": [
    "## Indexing"
   ]
  },
  {
   "cell_type": "markdown",
   "id": "3ab7c385",
   "metadata": {},
   "source": [
    "- indexing ( accessing the elements at different position )"
   ]
  },
  {
   "cell_type": "code",
   "execution_count": 27,
   "id": "e13668dc",
   "metadata": {},
   "outputs": [],
   "source": [
    "data = np.array([1, 2, 3, 4, 5, 6, 7, 8, 9])"
   ]
  },
  {
   "cell_type": "code",
   "execution_count": 28,
   "id": "ad6fe00f",
   "metadata": {},
   "outputs": [
    {
     "data": {
      "text/plain": [
       "3"
      ]
     },
     "execution_count": 28,
     "metadata": {},
     "output_type": "execute_result"
    }
   ],
   "source": [
    "data[2]"
   ]
  },
  {
   "cell_type": "code",
   "execution_count": 29,
   "id": "7a88dc55",
   "metadata": {},
   "outputs": [
    {
     "data": {
      "text/plain": [
       "7"
      ]
     },
     "execution_count": 29,
     "metadata": {},
     "output_type": "execute_result"
    }
   ],
   "source": [
    "data[6]"
   ]
  },
  {
   "cell_type": "markdown",
   "id": "8b1cd270",
   "metadata": {},
   "source": [
    "- indexing ( accessing the elements at different position with conditions )"
   ]
  },
  {
   "cell_type": "code",
   "execution_count": 30,
   "id": "492f15aa",
   "metadata": {},
   "outputs": [],
   "source": [
    "data = np.array([1, 2, 3, 4, 5, 6, 7, 8, 9, 10, 11, 12, 13, 14, 15])"
   ]
  },
  {
   "cell_type": "code",
   "execution_count": 31,
   "id": "72b58a00",
   "metadata": {},
   "outputs": [
    {
     "data": {
      "text/plain": [
       "array([1, 2, 3, 4])"
      ]
     },
     "execution_count": 31,
     "metadata": {},
     "output_type": "execute_result"
    }
   ],
   "source": [
    "# elements less then 5\n",
    "data[ data < 5 ]"
   ]
  },
  {
   "cell_type": "code",
   "execution_count": 32,
   "id": "a682b945",
   "metadata": {},
   "outputs": [
    {
     "data": {
      "text/plain": [
       "array([ 6,  7,  8,  9, 10, 11])"
      ]
     },
     "execution_count": 32,
     "metadata": {},
     "output_type": "execute_result"
    }
   ],
   "source": [
    "# elements greater then 5 and less then 12\n",
    "data[(data > 5) & (data < 12) ]"
   ]
  },
  {
   "cell_type": "code",
   "execution_count": 33,
   "id": "42e324c0",
   "metadata": {},
   "outputs": [
    {
     "data": {
      "text/plain": [
       "array([ 6,  7,  8,  9, 10, 11])"
      ]
     },
     "execution_count": 33,
     "metadata": {},
     "output_type": "execute_result"
    }
   ],
   "source": [
    "# elements greater then 5 or equal to 10 and less then 12 \n",
    "data[((data > 5) | (data == 10)) & (data < 12) ]"
   ]
  },
  {
   "cell_type": "markdown",
   "id": "4b039fb6",
   "metadata": {},
   "source": [
    "## Sclicing"
   ]
  },
  {
   "cell_type": "code",
   "execution_count": 34,
   "id": "5edf74d2",
   "metadata": {},
   "outputs": [],
   "source": [
    "a = np.array([1,  2,  3,  4,  5,  6,  7,  8,  9, 10])"
   ]
  },
  {
   "cell_type": "code",
   "execution_count": 35,
   "id": "98be24bb",
   "metadata": {},
   "outputs": [
    {
     "data": {
      "text/plain": [
       "array([4, 5, 6, 7, 8])"
      ]
     },
     "execution_count": 35,
     "metadata": {},
     "output_type": "execute_result"
    }
   ],
   "source": [
    "arr1 = a[3:8]\n",
    "arr1"
   ]
  },
  {
   "cell_type": "code",
   "execution_count": 36,
   "id": "22aecea4",
   "metadata": {},
   "outputs": [
    {
     "data": {
      "text/plain": [
       "array([3, 4, 5, 6, 7, 8, 9])"
      ]
     },
     "execution_count": 36,
     "metadata": {},
     "output_type": "execute_result"
    }
   ],
   "source": [
    "arr2 = a[2:9]\n",
    "arr2"
   ]
  },
  {
   "cell_type": "markdown",
   "id": "c9f377cb",
   "metadata": {},
   "source": [
    "## Stacking"
   ]
  },
  {
   "cell_type": "code",
   "execution_count": 37,
   "id": "fffefe8c",
   "metadata": {},
   "outputs": [],
   "source": [
    "a1 = np.array([[1, 1],\n",
    "               [2, 2]])\n",
    "\n",
    "a2 = np.array([[3, 3],\n",
    "               [4, 4]])"
   ]
  },
  {
   "cell_type": "markdown",
   "id": "0de9fca5",
   "metadata": {},
   "source": [
    "- Vertical stack"
   ]
  },
  {
   "cell_type": "code",
   "execution_count": 38,
   "id": "3b0eb99b",
   "metadata": {},
   "outputs": [
    {
     "data": {
      "text/plain": [
       "array([[1, 1],\n",
       "       [2, 2],\n",
       "       [3, 3],\n",
       "       [4, 4]])"
      ]
     },
     "execution_count": 38,
     "metadata": {},
     "output_type": "execute_result"
    }
   ],
   "source": [
    "np.vstack((a1, a2))"
   ]
  },
  {
   "cell_type": "markdown",
   "id": "ce8763cb",
   "metadata": {},
   "source": [
    "- Horizontal stack"
   ]
  },
  {
   "cell_type": "code",
   "execution_count": 39,
   "id": "f7a76603",
   "metadata": {},
   "outputs": [
    {
     "data": {
      "text/plain": [
       "array([[1, 1, 3, 3],\n",
       "       [2, 2, 4, 4]])"
      ]
     },
     "execution_count": 39,
     "metadata": {},
     "output_type": "execute_result"
    }
   ],
   "source": [
    "np.hstack((a1, a2))"
   ]
  },
  {
   "cell_type": "markdown",
   "id": "2cbbe175",
   "metadata": {},
   "source": [
    "# Basic array operations (addition, subtraction, multiplication, division, and more)"
   ]
  },
  {
   "cell_type": "markdown",
   "id": "ab0569a1",
   "metadata": {},
   "source": [
    "### single axis addition"
   ]
  },
  {
   "cell_type": "code",
   "execution_count": 40,
   "id": "7eea153e",
   "metadata": {},
   "outputs": [],
   "source": [
    "a1 = np.array([1, 1])\n",
    "\n",
    "a2 = np.array([3, 3])"
   ]
  },
  {
   "cell_type": "code",
   "execution_count": 41,
   "id": "5578b95b",
   "metadata": {},
   "outputs": [
    {
     "data": {
      "text/plain": [
       "array([4, 4])"
      ]
     },
     "execution_count": 41,
     "metadata": {},
     "output_type": "execute_result"
    }
   ],
   "source": [
    "a1 + a2"
   ]
  },
  {
   "cell_type": "markdown",
   "id": "1e10a701",
   "metadata": {},
   "source": [
    "### double axis addition"
   ]
  },
  {
   "cell_type": "code",
   "execution_count": 42,
   "id": "e842ecf8",
   "metadata": {},
   "outputs": [],
   "source": [
    "a1 = np.array([[1, 1],\n",
    "               [2, 2]])\n",
    "\n",
    "a2 = np.array([[3, 3],\n",
    "               [4, 4]])"
   ]
  },
  {
   "cell_type": "code",
   "execution_count": 43,
   "id": "86dfeb44",
   "metadata": {},
   "outputs": [
    {
     "data": {
      "text/plain": [
       "array([[4, 4],\n",
       "       [6, 6]])"
      ]
     },
     "execution_count": 43,
     "metadata": {},
     "output_type": "execute_result"
    }
   ],
   "source": [
    "a1 + a2"
   ]
  },
  {
   "cell_type": "markdown",
   "id": "2aa7d981",
   "metadata": {},
   "source": [
    "### Subtraction"
   ]
  },
  {
   "cell_type": "code",
   "execution_count": 44,
   "id": "1cab98ff",
   "metadata": {},
   "outputs": [
    {
     "data": {
      "text/plain": [
       "array([4, 5])"
      ]
     },
     "execution_count": 44,
     "metadata": {},
     "output_type": "execute_result"
    }
   ],
   "source": [
    "a1 = np.array([7, 8])\n",
    "a2 = np.array([3, 3])\n",
    "\n",
    "a1 - a2"
   ]
  },
  {
   "cell_type": "markdown",
   "id": "be044854",
   "metadata": {},
   "source": [
    "### Multiplication"
   ]
  },
  {
   "cell_type": "code",
   "execution_count": 45,
   "id": "4a73d599",
   "metadata": {},
   "outputs": [
    {
     "data": {
      "text/plain": [
       "array([21, 24])"
      ]
     },
     "execution_count": 45,
     "metadata": {},
     "output_type": "execute_result"
    }
   ],
   "source": [
    "a1 = np.array([7, 8])\n",
    "a2 = np.array([3, 3])\n",
    "\n",
    "a1 * a2"
   ]
  },
  {
   "cell_type": "markdown",
   "id": "5f6ddda5",
   "metadata": {},
   "source": [
    "### Division"
   ]
  },
  {
   "cell_type": "code",
   "execution_count": 46,
   "id": "78b2f39e",
   "metadata": {},
   "outputs": [
    {
     "data": {
      "text/plain": [
       "array([2.33333333, 2.66666667])"
      ]
     },
     "execution_count": 46,
     "metadata": {},
     "output_type": "execute_result"
    }
   ],
   "source": [
    "a1 = np.array([7, 8])\n",
    "a2 = np.array([3, 3])\n",
    "\n",
    "a1 / a2"
   ]
  },
  {
   "cell_type": "markdown",
   "id": "a39748a8",
   "metadata": {},
   "source": [
    "## sum all the elments "
   ]
  },
  {
   "cell_type": "code",
   "execution_count": 47,
   "id": "57b71d25",
   "metadata": {},
   "outputs": [
    {
     "data": {
      "text/plain": [
       "10"
      ]
     },
     "execution_count": 47,
     "metadata": {},
     "output_type": "execute_result"
    }
   ],
   "source": [
    "a = np.array([1, 2, 3, 4])\n",
    "\n",
    "a.sum()"
   ]
  },
  {
   "cell_type": "markdown",
   "id": "cc929ca7",
   "metadata": {},
   "source": [
    "### sum of rows"
   ]
  },
  {
   "cell_type": "code",
   "execution_count": 48,
   "id": "72f08eed",
   "metadata": {},
   "outputs": [
    {
     "data": {
      "text/plain": [
       "array([3, 6])"
      ]
     },
     "execution_count": 48,
     "metadata": {},
     "output_type": "execute_result"
    }
   ],
   "source": [
    "b = np.array([[1, 4], [2, 2]])\n",
    "b.sum(axis=0)"
   ]
  },
  {
   "cell_type": "markdown",
   "id": "4a80bab1",
   "metadata": {},
   "source": [
    "### sum columns"
   ]
  },
  {
   "cell_type": "code",
   "execution_count": 49,
   "id": "f3c76165",
   "metadata": {},
   "outputs": [
    {
     "data": {
      "text/plain": [
       "array([ 3, 12])"
      ]
     },
     "execution_count": 49,
     "metadata": {},
     "output_type": "execute_result"
    }
   ],
   "source": [
    "b = np.array([[2, 1], [5, 7]])\n",
    "b.sum(axis=1)"
   ]
  },
  {
   "cell_type": "markdown",
   "id": "342fe29a",
   "metadata": {},
   "source": [
    "# More useful array operations"
   ]
  },
  {
   "cell_type": "code",
   "execution_count": 50,
   "id": "bff9d313",
   "metadata": {},
   "outputs": [],
   "source": [
    "a = np.array([1,  2,  3,  4,  5,  6,  7,  8,  9, 10])"
   ]
  },
  {
   "cell_type": "code",
   "execution_count": 51,
   "id": "3c7f41fd",
   "metadata": {},
   "outputs": [
    {
     "data": {
      "text/plain": [
       "10"
      ]
     },
     "execution_count": 51,
     "metadata": {},
     "output_type": "execute_result"
    }
   ],
   "source": [
    "# maximum number in array\n",
    "a.max()"
   ]
  },
  {
   "cell_type": "code",
   "execution_count": 52,
   "id": "be3ffbaa",
   "metadata": {},
   "outputs": [
    {
     "data": {
      "text/plain": [
       "1"
      ]
     },
     "execution_count": 52,
     "metadata": {},
     "output_type": "execute_result"
    }
   ],
   "source": [
    "#minimum number in array\n",
    "a.min()\n"
   ]
  },
  {
   "cell_type": "code",
   "execution_count": 53,
   "id": "6782f791",
   "metadata": {},
   "outputs": [
    {
     "data": {
      "text/plain": [
       "55"
      ]
     },
     "execution_count": 53,
     "metadata": {},
     "output_type": "execute_result"
    }
   ],
   "source": [
    "#sum of all the numbers in array\n",
    "a.sum()"
   ]
  },
  {
   "cell_type": "markdown",
   "id": "c3beeb94",
   "metadata": {},
   "source": [
    "## Generating random numbers"
   ]
  },
  {
   "cell_type": "code",
   "execution_count": 54,
   "id": "c4ee9c8e",
   "metadata": {},
   "outputs": [
    {
     "data": {
      "text/plain": [
       "array([0.2249042 , 0.52347847, 0.7782642 , 0.97802345, 0.4584567 ])"
      ]
     },
     "execution_count": 54,
     "metadata": {},
     "output_type": "execute_result"
    }
   ],
   "source": [
    "rng = np.random.default_rng()  \n",
    "rng.random(5)"
   ]
  },
  {
   "cell_type": "markdown",
   "id": "4339c43b",
   "metadata": {},
   "source": [
    "## Unique items in aray"
   ]
  },
  {
   "cell_type": "markdown",
   "id": "9eb6c051",
   "metadata": {},
   "source": [
    "- extract unique items fro array"
   ]
  },
  {
   "cell_type": "code",
   "execution_count": 55,
   "id": "b41af2d7",
   "metadata": {},
   "outputs": [],
   "source": [
    "a = np.array([11, 11, 12, 13, 14, 15, 16, 17, 12, 13, 11, 14, 18, 19, 20])"
   ]
  },
  {
   "cell_type": "code",
   "execution_count": 56,
   "id": "a2fc9691",
   "metadata": {},
   "outputs": [
    {
     "data": {
      "text/plain": [
       "array([11, 12, 13, 14, 15, 16, 17, 18, 19, 20])"
      ]
     },
     "execution_count": 56,
     "metadata": {},
     "output_type": "execute_result"
    }
   ],
   "source": [
    "np.unique(a)"
   ]
  },
  {
   "cell_type": "markdown",
   "id": "1f11d5ac",
   "metadata": {},
   "source": [
    "- returning indexes of unique items"
   ]
  },
  {
   "cell_type": "code",
   "execution_count": 57,
   "id": "039141a5",
   "metadata": {},
   "outputs": [
    {
     "data": {
      "text/plain": [
       "array([ 0,  2,  3,  4,  5,  6,  7, 12, 13, 14], dtype=int64)"
      ]
     },
     "execution_count": 57,
     "metadata": {},
     "output_type": "execute_result"
    }
   ],
   "source": [
    "unique_values, indices_list = np.unique(a, return_index=True)\n",
    "indices_list"
   ]
  },
  {
   "cell_type": "markdown",
   "id": "d9ce567c",
   "metadata": {},
   "source": [
    "## Transpose"
   ]
  },
  {
   "cell_type": "code",
   "execution_count": 58,
   "id": "1ad9f248",
   "metadata": {},
   "outputs": [
    {
     "data": {
      "text/plain": [
       "array([[0, 1, 2],\n",
       "       [3, 4, 5]])"
      ]
     },
     "execution_count": 58,
     "metadata": {},
     "output_type": "execute_result"
    }
   ],
   "source": [
    "arr = np.arange(6).reshape((2, 3))\n",
    "arr"
   ]
  },
  {
   "cell_type": "code",
   "execution_count": 59,
   "id": "2d56c559",
   "metadata": {},
   "outputs": [
    {
     "data": {
      "text/plain": [
       "array([[0, 3],\n",
       "       [1, 4],\n",
       "       [2, 5]])"
      ]
     },
     "execution_count": 59,
     "metadata": {},
     "output_type": "execute_result"
    }
   ],
   "source": [
    "arr.transpose()"
   ]
  },
  {
   "cell_type": "markdown",
   "id": "efb2a643",
   "metadata": {},
   "source": [
    "# Reversing array's"
   ]
  },
  {
   "cell_type": "markdown",
   "id": "2e65364b",
   "metadata": {},
   "source": [
    "### Reversing a 1D array"
   ]
  },
  {
   "cell_type": "code",
   "execution_count": 60,
   "id": "ce3923b2",
   "metadata": {},
   "outputs": [],
   "source": [
    "arr = np.array([1, 2, 3, 4, 5, 6, 7, 8])"
   ]
  },
  {
   "cell_type": "code",
   "execution_count": 61,
   "id": "19e418ce",
   "metadata": {},
   "outputs": [
    {
     "data": {
      "text/plain": [
       "array([8, 7, 6, 5, 4, 3, 2, 1])"
      ]
     },
     "execution_count": 61,
     "metadata": {},
     "output_type": "execute_result"
    }
   ],
   "source": [
    "np.flip(arr)"
   ]
  },
  {
   "cell_type": "markdown",
   "id": "243ca49b",
   "metadata": {},
   "source": [
    "### Reversing a 2D array"
   ]
  },
  {
   "cell_type": "code",
   "execution_count": 62,
   "id": "791b2fb7",
   "metadata": {},
   "outputs": [],
   "source": [
    "arr_2d = np.array([[1, 2, 3, 4], [5, 6, 7, 8], [9, 10, 11, 12]])"
   ]
  },
  {
   "cell_type": "code",
   "execution_count": 63,
   "id": "8b3ed298",
   "metadata": {},
   "outputs": [
    {
     "data": {
      "text/plain": [
       "array([[12, 11, 10,  9],\n",
       "       [ 8,  7,  6,  5],\n",
       "       [ 4,  3,  2,  1]])"
      ]
     },
     "execution_count": 63,
     "metadata": {},
     "output_type": "execute_result"
    }
   ],
   "source": [
    "np.flip(arr_2d)"
   ]
  },
  {
   "cell_type": "markdown",
   "id": "8c99ab2f",
   "metadata": {},
   "source": [
    "# Flattening multidimensional arrays\n",
    "- it will convert multidimentional array into single array"
   ]
  },
  {
   "cell_type": "code",
   "execution_count": 64,
   "id": "3fd21019",
   "metadata": {},
   "outputs": [],
   "source": [
    "x = np.array([[1 , 2, 3, 4], [5, 6, 7, 8], [9, 10, 11, 12]])"
   ]
  },
  {
   "cell_type": "code",
   "execution_count": 65,
   "id": "e1a5718d",
   "metadata": {
    "scrolled": true
   },
   "outputs": [
    {
     "data": {
      "text/plain": [
       "array([ 1,  2,  3,  4,  5,  6,  7,  8,  9, 10, 11, 12])"
      ]
     },
     "execution_count": 65,
     "metadata": {},
     "output_type": "execute_result"
    }
   ],
   "source": [
    "x.flatten()"
   ]
  },
  {
   "cell_type": "markdown",
   "id": "1e37390f",
   "metadata": {},
   "source": [
    "# Plotting arrays with Matplotlib"
   ]
  },
  {
   "cell_type": "code",
   "execution_count": 66,
   "id": "faf70d2c",
   "metadata": {},
   "outputs": [],
   "source": [
    "# importing matplot library\n",
    "import matplotlib.pyplot as plt"
   ]
  },
  {
   "cell_type": "code",
   "execution_count": 67,
   "id": "2c0b6cc9",
   "metadata": {},
   "outputs": [],
   "source": [
    "# Array of numbers\n",
    "a = np.array([2, 1, 5, 7, 4, 6, 40, 90, 65, 94, 8, 14, 10, 9, 18, 20, 22])"
   ]
  },
  {
   "cell_type": "code",
   "execution_count": 68,
   "id": "10d945ce",
   "metadata": {},
   "outputs": [
    {
     "data": {
      "text/plain": [
       "[<matplotlib.lines.Line2D at 0x15412103f10>]"
      ]
     },
     "execution_count": 68,
     "metadata": {},
     "output_type": "execute_result"
    },
    {
     "data": {
      "image/png": "[encoded data removed]",
      "text/plain": [
       "<Figure size 432x288 with 1 Axes>"
      ]
     },
     "metadata": {
      "needs_background": "light"
     },
     "output_type": "display_data"
    }
   ],
   "source": [
    "#Ploting the grap of array values\n",
    "plt.plot(a)"
   ]
  },
  {
   "cell_type": "markdown",
   "id": "58ae4987",
   "metadata": {},
   "source": [
    "## Visulizaion of different values in 3-D graph "
   ]
  },
  {
   "cell_type": "code",
   "execution_count": 69,
   "id": "89a2eb75",
   "metadata": {},
   "outputs": [
    {
     "data": {
      "text/plain": [
       "<mpl_toolkits.mplot3d.art3d.Poly3DCollection at 0x154128bbaf0>"
      ]
     },
     "execution_count": 69,
     "metadata": {},
     "output_type": "execute_result"
    },
    {
     "data": {
      "image/png": "[encoded data removed]",
      "text/plain": [
       "<Figure size 432x288 with 1 Axes>"
      ]
     },
     "metadata": {
      "needs_background": "light"
     },
     "output_type": "display_data"
    }
   ],
   "source": [
    "fig = plt.figure()\n",
    "ax = fig.add_subplot(projection='3d')\n",
    "X = np.arange(-5, 5, 0.15)\n",
    "Y = np.arange(-5, 5, 0.15)\n",
    "X, Y = np.meshgrid(X, Y)\n",
    "R = np.sqrt(X**2 + Y**2)\n",
    "Z = np.sin(R)\n",
    "\n",
    "ax.plot_surface(X, Y, Z, rstride=1, cstride=1, cmap='viridis')"
   ]
  }
 ],
 "metadata": {
  "kernelspec": {
   "display_name": "Python 3.10.2 64-bit",
   "language": "python",
   "name": "python3"
  },
  "language_info": {
   "codemirror_mode": {
    "name": "ipython",
    "version": 3
   },
   "file_extension": ".py",
   "mimetype": "text/x-python",
   "name": "python",
   "nbconvert_exporter": "python",
   "pygments_lexer": "ipython3",
   "version": "3.10.2"
  },
  "vscode": {
   "interpreter": {
    "hash": "0911e1633bcdbb60164a4c92fb52717c1997d1e2827f44c384c59c1ea4ce59c0"
   }
  }
 },
 "nbformat": 4,
 "nbformat_minor": 5
}
